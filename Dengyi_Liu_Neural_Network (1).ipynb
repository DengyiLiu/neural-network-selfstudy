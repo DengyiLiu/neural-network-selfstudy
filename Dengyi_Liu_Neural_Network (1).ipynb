{
  "cells": [
    {
      "cell_type": "markdown",
      "metadata": {
        "id": "EoVK_khiSaNu"
      },
      "source": [
        "# Creating a Neural-Network from scratch\n",
        "> A tutorial to code a neural network from scratch in python using numpy.\n",
        "\n",
        "- toc: false\n",
        "- badges: true\n",
        "- comments: true\n",
        "- categories: [machinelearning, deeplearning, python3.x, numpy]\n",
        "- image: images/backprop.jpeg"
      ]
    },
    {
      "cell_type": "markdown",
      "metadata": {
        "id": "eMy2Lns2SaNw"
      },
      "source": [
        "I will assume that you all know what a artificial neural network is and have a little bit of knowledge about `forward and backward propagation`. Just having a simple idea is enough.\n",
        "\n",
        "> Tip: If you do not know what the above terms are or would like to brush up on the topics, I would suggest going through this amazing [youtube playlist](https://www.youtube.com/watch?v=aircAruvnKk&list=PLZHQObOWTQDNU6R1_67000Dx_ZCJB-3pi) by [3Blue1Brown](https://www.3blue1brown.com/)."
      ]
    },
    {
      "cell_type": "markdown",
      "metadata": {
        "id": "cS4Mt5nXSaNx"
      },
      "source": [
        "> youtube: https://www.youtube.com/watch?v=aircAruvnKk&list=PLZHQObOWTQDNU6R1_67000Dx_ZCJB-3pi"
      ]
    },
    {
      "cell_type": "markdown",
      "metadata": {
        "id": "zUwIQX0OSaNx"
      },
      "source": [
        "## Setting up Imports:"
      ]
    },
    {
      "cell_type": "code",
      "execution_count": 1,
      "metadata": {
        "id": "nbFaw5sDSaNy"
      },
      "outputs": [],
      "source": [
        "import numpy as np\n",
        "import gzip\n",
        "import pickle\n",
        "import pandas as pd\n",
        "import matplotlib.pyplot as plt"
      ]
    },
    {
      "cell_type": "code",
      "execution_count": 2,
      "metadata": {
        "id": "0B2QadorSaNz"
      },
      "outputs": [],
      "source": [
        "#hide_input\n",
        "import warnings\n",
        "#np.random.seed(200)\n",
        "%matplotlib inline\n",
        "warnings.filterwarnings(\"ignore\")"
      ]
    },
    {
      "cell_type": "markdown",
      "metadata": {
        "id": "v_WKWVCrSaNz"
      },
      "source": [
        "## Preparing the data"
      ]
    },
    {
      "cell_type": "markdown",
      "metadata": {
        "id": "b7fmW761SaNz"
      },
      "source": [
        "For this blog post, we'll use one of the most famous datasets in computer vision, [MNIST](https://en.wikipedia.org/wiki/MNIST_database). MNIST contains images of handwritten digits, collected by the National Institute of Standards and Technology and collated into a machine learning dataset by Yann Lecun and his colleagues. Lecun used MNIST in 1998 in [Lenet-5](http://yann.lecun.com/exdb/lenet/), the first computer system to demonstrate practically useful recognition of handwritten digit sequences. This was one of the most important breakthroughs in the history of AI."
      ]
    },
    {
      "cell_type": "markdown",
      "metadata": {
        "id": "V83aZ_CwSaN0"
      },
      "source": [
        "Run the code given below to download the `MNIST` dataset."
      ]
    },
    {
      "cell_type": "markdown",
      "metadata": {
        "id": "UkvDPK8hSaN0"
      },
      "source": [
        "```shell\n",
        "wget -P path http://deeplearning.net/data/mnist/mnist.pkl.gz\n",
        "```\n",
        "\n",
        "> Note: the above code snippet will download the dataset to `{path}` so be sure to set the `{path}` to the desired location of your choice. "
      ]
    },
    {
      "cell_type": "markdown",
      "metadata": {
        "id": "97YgUb_7SaN1"
      },
      "source": [
        "## Preparing our `train` & `validation` datasets"
      ]
    },
    {
      "cell_type": "code",
      "source": [
        "from google.colab import drive\n",
        "drive.mount('/content/drive')"
      ],
      "metadata": {
        "colab": {
          "base_uri": "https://localhost:8080/"
        },
        "id": "czxsHfuLQNrr",
        "outputId": "68f6821d-0137-4881-c8a8-090bf0b9693b"
      },
      "execution_count": 3,
      "outputs": [
        {
          "output_type": "stream",
          "name": "stdout",
          "text": [
            "Drive already mounted at /content/drive; to attempt to forcibly remount, call drive.mount(\"/content/drive\", force_remount=True).\n"
          ]
        }
      ]
    },
    {
      "cell_type": "code",
      "source": [
        "def load_data(path='/content/drive/My Drive/mnist.npz'):\n",
        "    f = np.load(path)\n",
        "    x_train, y_train = f['x_train'], f['y_train']\n",
        "    x_test, y_test = f['x_test'], f['y_test']\n",
        "    f.close()\n",
        "    return (x_train, y_train), (x_test, y_test)"
      ],
      "metadata": {
        "id": "LizC-CYSQtWE"
      },
      "execution_count": 4,
      "outputs": []
    },
    {
      "cell_type": "code",
      "source": [
        "(x_train, y_train), (x_valid, y_valid) = load_data()"
      ],
      "metadata": {
        "id": "vGNPB4bnQw2g"
      },
      "execution_count": 5,
      "outputs": []
    },
    {
      "cell_type": "code",
      "source": [
        "x_train.shape, y_train.shape"
      ],
      "metadata": {
        "colab": {
          "base_uri": "https://localhost:8080/"
        },
        "id": "AhosBGUbR-bs",
        "outputId": "a633701b-0ba5-4cf6-860b-2b2d171d7e53"
      },
      "execution_count": 6,
      "outputs": [
        {
          "output_type": "execute_result",
          "data": {
            "text/plain": [
              "((60000, 28, 28), (60000,))"
            ]
          },
          "metadata": {},
          "execution_count": 6
        }
      ]
    },
    {
      "cell_type": "code",
      "source": [
        "x_train = x_train.reshape(60000,784)\n",
        "x_valid = x_valid.reshape(10000,784)"
      ],
      "metadata": {
        "id": "UUd8nP3kSEcS"
      },
      "execution_count": 7,
      "outputs": []
    },
    {
      "cell_type": "markdown",
      "metadata": {
        "id": "XrA8mw4ZSaN2"
      },
      "source": [
        "To make our life a bit easier we are going to take only the examples that contain a 1 or 0."
      ]
    },
    {
      "cell_type": "code",
      "execution_count": 8,
      "metadata": {
        "id": "-aKninJFSaN2",
        "outputId": "154e9bc2-48c1-4987-a33b-50ce1b40ce94",
        "colab": {
          "base_uri": "https://localhost:8080/"
        }
      },
      "outputs": [
        {
          "output_type": "execute_result",
          "data": {
            "text/plain": [
              "((12665, 784), (12665, 1))"
            ]
          },
          "metadata": {},
          "execution_count": 8
        }
      ],
      "source": [
        "zero_mask = [y_train==0] # grab all the index values where 0 is present\n",
        "one_mask = [y_train==1] # grad all the index valus where 1 is present\n",
        "\n",
        "# grab all the 1's and 0's and make training set\n",
        "x_train = np.vstack((x_train[zero_mask], x_train[one_mask]))\n",
        "y_train = np.reshape(y_train, (-1,1))\n",
        "y_train = np.squeeze(np.vstack((y_train[zero_mask], y_train[one_mask]))).reshape(-1,1)\n",
        "\n",
        "x_train.shape, y_train.shape"
      ]
    },
    {
      "cell_type": "markdown",
      "metadata": {
        "id": "k5h0cLYjSaN2"
      },
      "source": [
        "**Our training set now has 10610 examples**"
      ]
    },
    {
      "cell_type": "code",
      "execution_count": 9,
      "metadata": {
        "id": "t_A2YyRwSaN2",
        "outputId": "976f75be-34a0-4b9b-d1f0-ea869d9553e0",
        "colab": {
          "base_uri": "https://localhost:8080/"
        }
      },
      "outputs": [
        {
          "output_type": "execute_result",
          "data": {
            "text/plain": [
              "((2115, 784), (2115, 1))"
            ]
          },
          "metadata": {},
          "execution_count": 9
        }
      ],
      "source": [
        "zero_mask = [y_valid==0] # grab all the index values where 0 is present\n",
        "one_mask = [y_valid==1] # grad all the index valus where 1 is present\n",
        "\n",
        "# grab all the 1's and 0's and make training set\n",
        "x_valid = np.vstack((x_valid[zero_mask], x_valid[one_mask]))\n",
        "y_valid = np.reshape(y_valid, (-1,1))\n",
        "y_valid = np.squeeze(np.vstack((y_valid[zero_mask], y_valid[one_mask]))).reshape(-1,1)\n",
        "\n",
        "x_valid.shape, y_valid.shape"
      ]
    },
    {
      "cell_type": "markdown",
      "metadata": {
        "id": "B94tWt_hSaN3"
      },
      "source": [
        "**Our validation set now has 2055 examples**"
      ]
    },
    {
      "cell_type": "markdown",
      "metadata": {
        "id": "OW5-4JeoSaN3"
      },
      "source": [
        "**Why do we need different training and validation sets ?**\n",
        "\n",
        "Since, this topic requires a different post on it's own I won't be covering it here. But you can get the idea from this above video:\n",
        "\n",
        "> youtube: https://youtu.be/1waHlpKiNyY?t=243"
      ]
    },
    {
      "cell_type": "markdown",
      "metadata": {
        "id": "pOL1si5_SaN3"
      },
      "source": [
        "Let's view some example images from our dataset:"
      ]
    },
    {
      "cell_type": "code",
      "execution_count": 10,
      "metadata": {
        "id": "FOGquDNSSaN3",
        "outputId": "b5aa9c30-08b4-4557-a729-365275f9c221",
        "colab": {
          "base_uri": "https://localhost:8080/",
          "height": 265
        }
      },
      "outputs": [
        {
          "output_type": "display_data",
          "data": {
            "text/plain": [
              "<Figure size 432x288 with 1 Axes>"
            ],
            "image/png": "[encoded data removed]"
          },
          "metadata": {
            "needs_background": "light"
          }
        }
      ],
      "source": [
        "#collapse \n",
        "plt.imshow(x_train[50].reshape(28,28), cmap=\"gray\");"
      ]
    },
    {
      "cell_type": "code",
      "execution_count": 11,
      "metadata": {
        "id": "47cy7e-fSaN3",
        "outputId": "f4049ef9-5fc4-44f1-ff77-41f00af528f7",
        "colab": {
          "base_uri": "https://localhost:8080/",
          "height": 265
        }
      },
      "outputs": [
        {
          "output_type": "display_data",
          "data": {
            "text/plain": [
              "<Figure size 432x288 with 1 Axes>"
            ],
            "image/png": "[encoded data removed]"
          },
          "metadata": {
            "needs_background": "light"
          }
        }
      ],
      "source": [
        "#collapse\n",
        "plt.imshow(x_train[5000].reshape(28,28), cmap=\"gray\");"
      ]
    },
    {
      "cell_type": "markdown",
      "metadata": {
        "id": "Nxbdik9sSaN4"
      },
      "source": [
        "## Basic Model Architecture"
      ]
    },
    {
      "cell_type": "markdown",
      "metadata": {
        "id": "0wwJDYKpSaN4"
      },
      "source": [
        "For this task we are going to use a very basic model architecture this 2 linear layers and a output layer with 1 unit."
      ]
    },
    {
      "cell_type": "code",
      "execution_count": 12,
      "metadata": {
        "id": "l6o17lKdSaN4"
      },
      "outputs": [],
      "source": [
        "#hide_input \n",
        "import graphviz\n",
        "def gv(s): return graphviz.Source('digraph G{ rankdir=\"LR\"' + s + '; }')"
      ]
    },
    {
      "cell_type": "markdown",
      "metadata": {
        "id": "pV4g-B3jSaN4"
      },
      "source": [
        "## Let's take a deep dive into what this network means:"
      ]
    },
    {
      "cell_type": "markdown",
      "metadata": {
        "id": "OovTDfG0SaN4"
      },
      "source": [
        "Let's take at look at all the individual components of this network:\n",
        "- **Linear:**\n",
        "  The linear layer computes the following :      \n",
        "   ```\n",
        "   out = matmul(input,W1) + B1\n",
        "   ```\n",
        "   \n",
        "- **ReLU:** \n",
        "  The relu computes the following:\n",
        "  ```\n",
        "  out = max(0, input)\n",
        "  ```\n",
        "- **Sigmoid:** \n",
        "  The sigmoid computes the following:\n",
        "  ```\n",
        "  out = 1/(1 + e.pow(input))\n",
        "  ```\n",
        "  \n",
        "- **Loss:** \n",
        "  For the loss we are going to use the CrossEntropy Loss which is defined by the follwoing equation:\n",
        "  $$loss= -\\frac{1}{m} \\sum\\limits_{i = 1}^{m} (y^{(i)}\\log\\left(yhat^{(i)}\\right) + (1-y^{(i)})\\log\\left(1-yhat^{(i)}\\right)) $$"
      ]
    },
    {
      "cell_type": "markdown",
      "metadata": {
        "id": "V0Hz5W_PSaN5"
      },
      "source": [
        "**Now that we have our model architecture, let's create the different parts needed to assemble the model:**\n",
        "- linear layer\n",
        "- relu activation\n",
        "- sigmoid activation\n",
        "- loss"
      ]
    },
    {
      "cell_type": "markdown",
      "metadata": {
        "id": "2t5xitF_SaN5"
      },
      "source": [
        "**Let's first try to make some sense of what is happening in the backward and forward pass of our model:**"
      ]
    },
    {
      "cell_type": "markdown",
      "metadata": {
        "id": "PUAn0zdGSaN5"
      },
      "source": [
        "**On paper our forward pass would look something like this:**\n",
        "\n",
        "> Note: `@` in python is the `matrix-multiplication operator`. \n",
        "\n",
        "```python\n",
        "inputs = x_train # original inputs\n",
        "targets = y_train # original targets\n",
        "\n",
        "# forward pass for the 1st linear layer\n",
        "z1 = inputs @ w2 + b2\n",
        "a1 = relu(z1)\n",
        "# forward pass for the 2nd linear layer\n",
        "z2 = a1 @ w2 + b2\n",
        "a2 = relu(z2)\n",
        "# forward pass for the output linear layer\n",
        "z3 = a2 @ w3 + b3\n",
        "pred = a3 = sigmoid(z3) # these are our model predictions \n",
        "# calculate loss between original targets & model predictions\n",
        "loss = loss_fn(a3, targets)\n",
        "```\n",
        "> Note: This is not actual code it's just psuedo-code for understanding."
      ]
    },
    {
      "cell_type": "markdown",
      "metadata": {
        "id": "fy2pBPtVSaN5"
      },
      "source": [
        "**Forward pass :**"
      ]
    },
    {
      "cell_type": "code",
      "execution_count": 13,
      "metadata": {
        "id": "Cx3jxn20SaN5",
        "outputId": "5f4cf6b3-29b8-49f5-bdcb-0bc1cf220c23",
        "colab": {
          "base_uri": "https://localhost:8080/",
          "height": 368
        }
      },
      "outputs": [
        {
          "output_type": "execute_result",
          "data": {
            "text/plain": [
              "<graphviz.files.Source at 0x7f2ee09b5d60>"
            ],
            "image/svg+xml": "<?xml version=\"1.0\" encoding=\"UTF-8\" standalone=\"no\"?>\n<!DOCTYPE svg PUBLIC \"-//W3C//DTD SVG 1.1//EN\"\n \"http://www.w3.org/Graphics/SVG/1.1/DTD/svg11.dtd\">\n<!-- Generated by graphviz version 2.40.1 (20161225.0304)\n -->\n<!-- Title: G Pages: 1 -->\n<svg width=\"830pt\" height=\"260pt\"\n viewBox=\"0.00 0.00 830.05 260.00\" xmlns=\"http://www.w3.org/2000/svg\" xmlns:xlink=\"http://www.w3.org/1999/xlink\">\n<g id=\"graph0\" class=\"graph\" transform=\"scale(1 1) rotate(0) translate(4 256)\">\n<title>G</title>\n<polygon fill=\"#ffffff\" stroke=\"transparent\" points=\"-4,4 -4,-256 826.0542,-256 826.0542,4 -4,4\"/>\n<!-- X -->\n<g id=\"node1\" class=\"node\">\n<title>X</title>\n<ellipse fill=\"none\" stroke=\"#000000\" cx=\"27\" cy=\"-234\" rx=\"27\" ry=\"18\"/>\n<text text-anchor=\"middle\" x=\"27\" y=\"-230.3\" font-family=\"Times,serif\" font-size=\"14.00\" fill=\"#000000\">X</text>\n</g>\n<!-- linear1 -->\n<g id=\"node2\" class=\"node\">\n<title>linear1</title>\n<ellipse fill=\"none\" stroke=\"#000000\" cx=\"126.3968\" cy=\"-180\" rx=\"36.2938\" ry=\"18\"/>\n<text text-anchor=\"middle\" x=\"126.3968\" y=\"-176.3\" font-family=\"Times,serif\" font-size=\"14.00\" fill=\"#000000\">linear1</text>\n</g>\n<!-- X&#45;&gt;linear1 -->\n<g id=\"edge1\" class=\"edge\">\n<title>X&#45;&gt;linear1</title>\n<path fill=\"none\" stroke=\"#000000\" d=\"M48.0795,-222.548C61.1044,-215.4718 78.1077,-206.2343 92.9417,-198.1754\"/>\n<polygon fill=\"#000000\" stroke=\"#000000\" points=\"94.7266,-201.1889 101.8427,-193.3397 91.3849,-195.038 94.7266,-201.1889\"/>\n</g>\n<!-- relu1 -->\n<g id=\"node3\" class=\"node\">\n<title>relu1</title>\n<ellipse fill=\"none\" stroke=\"#000000\" cx=\"228.6909\" cy=\"-180\" rx=\"29.795\" ry=\"18\"/>\n<text text-anchor=\"middle\" x=\"228.6909\" y=\"-176.3\" font-family=\"Times,serif\" font-size=\"14.00\" fill=\"#000000\">relu1</text>\n</g>\n<!-- linear1&#45;&gt;relu1 -->\n<g id=\"edge2\" class=\"edge\">\n<title>linear1&#45;&gt;relu1</title>\n<path fill=\"none\" stroke=\"#000000\" d=\"M163.0384,-180C171.3528,-180 180.2247,-180 188.6712,-180\"/>\n<polygon fill=\"#000000\" stroke=\"#000000\" points=\"188.697,-183.5001 198.6969,-180 188.6969,-176.5001 188.697,-183.5001\"/>\n</g>\n<!-- linear2 -->\n<g id=\"node4\" class=\"node\">\n<title>linear2</title>\n<ellipse fill=\"none\" stroke=\"#000000\" cx=\"330.985\" cy=\"-126\" rx=\"36.2938\" ry=\"18\"/>\n<text text-anchor=\"middle\" x=\"330.985\" y=\"-122.3\" font-family=\"Times,serif\" font-size=\"14.00\" fill=\"#000000\">linear2</text>\n</g>\n<!-- relu1&#45;&gt;linear2 -->\n<g id=\"edge3\" class=\"edge\">\n<title>relu1&#45;&gt;linear2</title>\n<path fill=\"none\" stroke=\"#000000\" d=\"M251.3933,-168.0156C264.7491,-160.9652 281.8992,-151.9119 296.8574,-144.0156\"/>\n<polygon fill=\"#000000\" stroke=\"#000000\" points=\"298.6246,-147.0405 305.8341,-139.2769 295.3567,-140.8501 298.6246,-147.0405\"/>\n</g>\n<!-- relu2 -->\n<g id=\"node5\" class=\"node\">\n<title>relu2</title>\n<ellipse fill=\"none\" stroke=\"#000000\" cx=\"433.2791\" cy=\"-126\" rx=\"29.795\" ry=\"18\"/>\n<text text-anchor=\"middle\" x=\"433.2791\" y=\"-122.3\" font-family=\"Times,serif\" font-size=\"14.00\" fill=\"#000000\">relu2</text>\n</g>\n<!-- linear2&#45;&gt;relu2 -->\n<g id=\"edge4\" class=\"edge\">\n<title>linear2&#45;&gt;relu2</title>\n<path fill=\"none\" stroke=\"#000000\" d=\"M367.6266,-126C375.941,-126 384.813,-126 393.2594,-126\"/>\n<polygon fill=\"#000000\" stroke=\"#000000\" points=\"393.2852,-129.5001 403.2852,-126 393.2851,-122.5001 393.2852,-129.5001\"/>\n</g>\n<!-- linear3 -->\n<g id=\"node6\" class=\"node\">\n<title>linear3</title>\n<ellipse fill=\"none\" stroke=\"#000000\" cx=\"535.5732\" cy=\"-72\" rx=\"36.2938\" ry=\"18\"/>\n<text text-anchor=\"middle\" x=\"535.5732\" y=\"-68.3\" font-family=\"Times,serif\" font-size=\"14.00\" fill=\"#000000\">linear3</text>\n</g>\n<!-- relu2&#45;&gt;linear3 -->\n<g id=\"edge5\" class=\"edge\">\n<title>relu2&#45;&gt;linear3</title>\n<path fill=\"none\" stroke=\"#000000\" d=\"M455.9815,-114.0156C469.3374,-106.9652 486.4875,-97.9119 501.4456,-90.0156\"/>\n<polygon fill=\"#000000\" stroke=\"#000000\" points=\"503.2129,-93.0405 510.4224,-85.2769 499.945,-86.8501 503.2129,-93.0405\"/>\n</g>\n<!-- sigmoid -->\n<g id=\"node7\" class=\"node\">\n<title>sigmoid</title>\n<ellipse fill=\"none\" stroke=\"#000000\" cx=\"648.9164\" cy=\"-72\" rx=\"40.8928\" ry=\"18\"/>\n<text text-anchor=\"middle\" x=\"648.9164\" y=\"-68.3\" font-family=\"Times,serif\" font-size=\"14.00\" fill=\"#000000\">sigmoid</text>\n</g>\n<!-- linear3&#45;&gt;sigmoid -->\n<g id=\"edge6\" class=\"edge\">\n<title>linear3&#45;&gt;sigmoid</title>\n<path fill=\"none\" stroke=\"#000000\" d=\"M572.0596,-72C580.246,-72 589.0788,-72 597.7388,-72\"/>\n<polygon fill=\"#000000\" stroke=\"#000000\" points=\"597.7766,-75.5001 607.7765,-72 597.7765,-68.5001 597.7766,-75.5001\"/>\n</g>\n<!-- prediction -->\n<g id=\"node8\" class=\"node\">\n<title>prediction</title>\n<ellipse fill=\"none\" stroke=\"#000000\" cx=\"773.9585\" cy=\"-72\" rx=\"48.1917\" ry=\"18\"/>\n<text text-anchor=\"middle\" x=\"773.9585\" y=\"-68.3\" font-family=\"Times,serif\" font-size=\"14.00\" fill=\"#000000\">prediction</text>\n</g>\n<!-- sigmoid&#45;&gt;prediction -->\n<g id=\"edge7\" class=\"edge\">\n<title>sigmoid&#45;&gt;prediction</title>\n<path fill=\"none\" stroke=\"#000000\" d=\"M690.2064,-72C698.3871,-72 707.1181,-72 715.7395,-72\"/>\n<polygon fill=\"#000000\" stroke=\"#000000\" points=\"715.7705,-75.5001 725.7704,-72 715.7704,-68.5001 715.7705,-75.5001\"/>\n</g>\n<!-- W1 -->\n<g id=\"node9\" class=\"node\">\n<title>W1</title>\n<ellipse fill=\"none\" stroke=\"#000000\" cx=\"27\" cy=\"-180\" rx=\"27\" ry=\"18\"/>\n<text text-anchor=\"middle\" x=\"27\" y=\"-176.3\" font-family=\"Times,serif\" font-size=\"14.00\" fill=\"#000000\">W1</text>\n</g>\n<!-- W1&#45;&gt;linear1 -->\n<g id=\"edge8\" class=\"edge\">\n<title>W1&#45;&gt;linear1</title>\n<path fill=\"none\" stroke=\"#000000\" d=\"M54.1606,-180C62.0928,-180 70.9968,-180 79.7725,-180\"/>\n<polygon fill=\"#000000\" stroke=\"#000000\" points=\"79.9495,-183.5001 89.9495,-180 79.9495,-176.5001 79.9495,-183.5001\"/>\n</g>\n<!-- B1 -->\n<g id=\"node10\" class=\"node\">\n<title>B1</title>\n<ellipse fill=\"none\" stroke=\"#000000\" cx=\"27\" cy=\"-126\" rx=\"27\" ry=\"18\"/>\n<text text-anchor=\"middle\" x=\"27\" y=\"-122.3\" font-family=\"Times,serif\" font-size=\"14.00\" fill=\"#000000\">B1</text>\n</g>\n<!-- B1&#45;&gt;linear1 -->\n<g id=\"edge9\" class=\"edge\">\n<title>B1&#45;&gt;linear1</title>\n<path fill=\"none\" stroke=\"#000000\" d=\"M48.0795,-137.452C61.1044,-144.5282 78.1077,-153.7657 92.9417,-161.8246\"/>\n<polygon fill=\"#000000\" stroke=\"#000000\" points=\"91.3849,-164.962 101.8427,-166.6603 94.7266,-158.8111 91.3849,-164.962\"/>\n</g>\n<!-- W2 -->\n<g id=\"node11\" class=\"node\">\n<title>W2</title>\n<ellipse fill=\"none\" stroke=\"#000000\" cx=\"228.6909\" cy=\"-126\" rx=\"27\" ry=\"18\"/>\n<text text-anchor=\"middle\" x=\"228.6909\" y=\"-122.3\" font-family=\"Times,serif\" font-size=\"14.00\" fill=\"#000000\">W2</text>\n</g>\n<!-- W2&#45;&gt;linear2 -->\n<g id=\"edge10\" class=\"edge\">\n<title>W2&#45;&gt;linear2</title>\n<path fill=\"none\" stroke=\"#000000\" d=\"M255.8353,-126C264.6212,-126 274.6293,-126 284.4123,-126\"/>\n<polygon fill=\"#000000\" stroke=\"#000000\" points=\"284.4652,-129.5001 294.4652,-126 284.4651,-122.5001 284.4652,-129.5001\"/>\n</g>\n<!-- B2 -->\n<g id=\"node12\" class=\"node\">\n<title>B2</title>\n<ellipse fill=\"none\" stroke=\"#000000\" cx=\"228.6909\" cy=\"-72\" rx=\"27\" ry=\"18\"/>\n<text text-anchor=\"middle\" x=\"228.6909\" y=\"-68.3\" font-family=\"Times,serif\" font-size=\"14.00\" fill=\"#000000\">B2</text>\n</g>\n<!-- B2&#45;&gt;linear2 -->\n<g id=\"edge11\" class=\"edge\">\n<title>B2&#45;&gt;linear2</title>\n<path fill=\"none\" stroke=\"#000000\" d=\"M249.8863,-83.1888C263.3588,-90.3009 281.1123,-99.6727 296.573,-107.8342\"/>\n<polygon fill=\"#000000\" stroke=\"#000000\" points=\"295.367,-111.1553 305.8444,-112.7285 298.6349,-104.9649 295.367,-111.1553\"/>\n</g>\n<!-- W3 -->\n<g id=\"node13\" class=\"node\">\n<title>W3</title>\n<ellipse fill=\"none\" stroke=\"#000000\" cx=\"433.2791\" cy=\"-72\" rx=\"27\" ry=\"18\"/>\n<text text-anchor=\"middle\" x=\"433.2791\" y=\"-68.3\" font-family=\"Times,serif\" font-size=\"14.00\" fill=\"#000000\">W3</text>\n</g>\n<!-- W3&#45;&gt;linear3 -->\n<g id=\"edge12\" class=\"edge\">\n<title>W3&#45;&gt;linear3</title>\n<path fill=\"none\" stroke=\"#000000\" d=\"M460.4235,-72C469.2095,-72 479.2175,-72 489.0006,-72\"/>\n<polygon fill=\"#000000\" stroke=\"#000000\" points=\"489.0534,-75.5001 499.0534,-72 489.0534,-68.5001 489.0534,-75.5001\"/>\n</g>\n<!-- B3 -->\n<g id=\"node14\" class=\"node\">\n<title>B3</title>\n<ellipse fill=\"none\" stroke=\"#000000\" cx=\"433.2791\" cy=\"-18\" rx=\"27\" ry=\"18\"/>\n<text text-anchor=\"middle\" x=\"433.2791\" y=\"-14.3\" font-family=\"Times,serif\" font-size=\"14.00\" fill=\"#000000\">B3</text>\n</g>\n<!-- B3&#45;&gt;linear3 -->\n<g id=\"edge13\" class=\"edge\">\n<title>B3&#45;&gt;linear3</title>\n<path fill=\"none\" stroke=\"#000000\" d=\"M454.4745,-29.1888C467.9471,-36.3009 485.7005,-45.6727 501.1612,-53.8342\"/>\n<polygon fill=\"#000000\" stroke=\"#000000\" points=\"499.9552,-57.1553 510.4326,-58.7285 503.2231,-50.9649 499.9552,-57.1553\"/>\n</g>\n</g>\n</svg>\n"
          },
          "metadata": {},
          "execution_count": 13
        }
      ],
      "source": [
        "#hide_input\n",
        "gv('''\n",
        "X->linear1->relu1->linear2->relu2->linear3->sigmoid->prediction\n",
        "\n",
        "W1->linear1\n",
        "B1->linear1\n",
        "\n",
        "W2->linear2\n",
        "B2->linear2\n",
        "\n",
        "W3->linear3\n",
        "B3->linear3\n",
        "''')"
      ]
    },
    {
      "cell_type": "code",
      "execution_count": 14,
      "metadata": {
        "id": "KT9rJoSgSaN6",
        "outputId": "e14d260f-38a7-45e8-9272-6fbbfc7ecb52",
        "colab": {
          "base_uri": "https://localhost:8080/",
          "height": 152
        }
      },
      "outputs": [
        {
          "output_type": "execute_result",
          "data": {
            "text/plain": [
              "<graphviz.files.Source at 0x7f2ee09b04f0>"
            ],
            "image/svg+xml": "<?xml version=\"1.0\" encoding=\"UTF-8\" standalone=\"no\"?>\n<!DOCTYPE svg PUBLIC \"-//W3C//DTD SVG 1.1//EN\"\n \"http://www.w3.org/Graphics/SVG/1.1/DTD/svg11.dtd\">\n<!-- Generated by graphviz version 2.40.1 (20161225.0304)\n -->\n<!-- Title: G Pages: 1 -->\n<svg width=\"306pt\" height=\"98pt\"\n viewBox=\"0.00 0.00 305.58 98.00\" xmlns=\"http://www.w3.org/2000/svg\" xmlns:xlink=\"http://www.w3.org/1999/xlink\">\n<g id=\"graph0\" class=\"graph\" transform=\"scale(1 1) rotate(0) translate(4 94)\">\n<title>G</title>\n<polygon fill=\"#ffffff\" stroke=\"transparent\" points=\"-4,4 -4,-94 301.5848,-94 301.5848,4 -4,4\"/>\n<!-- prediction -->\n<g id=\"node1\" class=\"node\">\n<title>prediction</title>\n<ellipse fill=\"none\" stroke=\"#000000\" cx=\"48.0957\" cy=\"-72\" rx=\"48.1917\" ry=\"18\"/>\n<text text-anchor=\"middle\" x=\"48.0957\" y=\"-68.3\" font-family=\"Times,serif\" font-size=\"14.00\" fill=\"#000000\">prediction</text>\n</g>\n<!-- loss_fn -->\n<g id=\"node2\" class=\"node\">\n<title>loss_fn</title>\n<ellipse fill=\"none\" stroke=\"#000000\" cx=\"169.8881\" cy=\"-45\" rx=\"37.8943\" ry=\"18\"/>\n<text text-anchor=\"middle\" x=\"169.8881\" y=\"-41.3\" font-family=\"Times,serif\" font-size=\"14.00\" fill=\"#000000\">loss_fn</text>\n</g>\n<!-- prediction&#45;&gt;loss_fn -->\n<g id=\"edge1\" class=\"edge\">\n<title>prediction&#45;&gt;loss_fn</title>\n<path fill=\"none\" stroke=\"#000000\" d=\"M89.6691,-62.7836C101.1815,-60.2315 113.7218,-57.4514 125.3935,-54.864\"/>\n<polygon fill=\"#000000\" stroke=\"#000000\" points=\"126.3737,-58.2317 135.3792,-52.6502 124.8586,-51.3976 126.3737,-58.2317\"/>\n</g>\n<!-- loss -->\n<g id=\"node4\" class=\"node\">\n<title>loss</title>\n<ellipse fill=\"none\" stroke=\"#000000\" cx=\"270.5848\" cy=\"-45\" rx=\"27\" ry=\"18\"/>\n<text text-anchor=\"middle\" x=\"270.5848\" y=\"-41.3\" font-family=\"Times,serif\" font-size=\"14.00\" fill=\"#000000\">loss</text>\n</g>\n<!-- loss_fn&#45;&gt;loss -->\n<g id=\"edge3\" class=\"edge\">\n<title>loss_fn&#45;&gt;loss</title>\n<path fill=\"none\" stroke=\"#000000\" d=\"M207.6703,-45C215.989,-45 224.7967,-45 233.1034,-45\"/>\n<polygon fill=\"#000000\" stroke=\"#000000\" points=\"233.283,-48.5001 243.2829,-45 233.2829,-41.5001 233.283,-48.5001\"/>\n</g>\n<!-- target -->\n<g id=\"node3\" class=\"node\">\n<title>target</title>\n<ellipse fill=\"none\" stroke=\"#000000\" cx=\"48.0957\" cy=\"-18\" rx=\"31.3957\" ry=\"18\"/>\n<text text-anchor=\"middle\" x=\"48.0957\" y=\"-14.3\" font-family=\"Times,serif\" font-size=\"14.00\" fill=\"#000000\">target</text>\n</g>\n<!-- target&#45;&gt;loss_fn -->\n<g id=\"edge2\" class=\"edge\">\n<title>target&#45;&gt;loss_fn</title>\n<path fill=\"none\" stroke=\"#000000\" d=\"M77.268,-24.4672C91.5846,-27.641 109.1468,-31.5343 125.1152,-35.0743\"/>\n<polygon fill=\"#000000\" stroke=\"#000000\" points=\"124.8078,-38.5911 135.3283,-37.3385 126.3229,-31.757 124.8078,-38.5911\"/>\n</g>\n</g>\n</svg>\n"
          },
          "metadata": {},
          "execution_count": 14
        }
      ],
      "source": [
        "#hide_input\n",
        "gv('''\n",
        "prediction->loss_fn\n",
        "target->loss_fn\n",
        "loss_fn-> loss\n",
        "''')"
      ]
    },
    {
      "cell_type": "markdown",
      "metadata": {
        "id": "rqi4l7SHSaN6"
      },
      "source": [
        "**Consequently our backward pass would look something like this :** \n",
        "\n",
        "(Let us assume that the `grad(inp, out)` computes the gradients of `inp` wrt `out`)\n",
        "\n",
        "```python\n",
        "# gradient of loss wrt to the output of the last activation layer: (a3)\n",
        "# (or the predictions of model)\n",
        "da3 = grad(loss, a3)\n",
        "\n",
        "# gradient of loss wrt to the output of the current linear layer: (z3)\n",
        "dz3 = grad(loss, z3) = grad(loss, a3) * grad(a3, z3)\n",
        "# gradient of loss wrt to w3\n",
        "dw3 = grad(loss, w3) = grad(loss, z3) * grad(z3, w3) = dz3 * grad(z3, w3)\n",
        "# gradient of loss wrt to b3\n",
        "db3 = grad(loss, b3) = grad(loss, z3) * grad(z3, b3) = dz3 * grad(z3, b3)\n",
        "# gradient of loss wrt to the input of the current linear layer: (a2)\n",
        "da2 = grad(loss, a2) = grad(loss, a3) = grad(a2, )\n",
        "\n",
        "# gradient of loss wrt to the output of the current linear layer: (z2)\n",
        "dz2 = grad(loss, z2) = grad(loss, a2) * grad(a2, z2) \n",
        "# gradient of loss wrt to w2\n",
        "dw2 = grad(loss, w2) = grad(loss, z2) * grad(z2, w2) = dz2 * grad(z2, w2)\n",
        "# gradient of loss wrt to b2\n",
        "db2 = grad(loss, b2) = grad(loss, z2) * grad(z2, b2) = dz2 * grad(z2, b2)\n",
        "# gradient of loss wrt to the input of the current linear layer: (a1)\n",
        "da1 = grad(loss, a1) = grad(loss, z2) * grad(z2, a1) = dz2 * grad(z2, a1)\n",
        "\n",
        "# gradient of loss wrt to the output of the current linear layer: (z1)\n",
        "dz1 = grad(loss, z1) = grad(loss, a1) * grad(a1, z1) = da1 * grad(a1, z1)\n",
        "# gradient of loss wrt to w1\n",
        "dw1 = grad(loss, w1) = grad(loss, z1) * grad(z1, w1) = dz1 * grad(z1, w1)\n",
        "# gradient of loss wrt to b1\n",
        "db1 = grad(loss, b1) = grad(loss, z1) * grad(z1, 1) = dz1 * grad(z1, b1)\n",
        "# In this layer the inputs are out training examples which we cannot change so\n",
        "# we do not need to commpute more gradients\n",
        "\n",
        "# Update parameters :\n",
        "# since we now have all the required gradients we can now perform the update step\n",
        "w1 -= learning_rate * dw1\n",
        "b1 -= learning_rate * db1\n",
        "\n",
        "w2 -= learning_rate * dw2\n",
        "b2 -= learning_rate * db2\n",
        "```\n",
        "> Note: This is not actual code it's just psuedo-code for understanding."
      ]
    },
    {
      "cell_type": "markdown",
      "metadata": {
        "id": "kxbNVk2xSaN6"
      },
      "source": [
        "**Backward pass:**"
      ]
    },
    {
      "cell_type": "code",
      "execution_count": 15,
      "metadata": {
        "id": "_ldrnBpGSaN6",
        "outputId": "d9cc132e-4b61-47de-9bed-9cedd9992963",
        "colab": {
          "base_uri": "https://localhost:8080/",
          "height": 332
        }
      },
      "outputs": [
        {
          "output_type": "execute_result",
          "data": {
            "text/plain": [
              "<graphviz.files.Source at 0x7f2ee09b01f0>"
            ],
            "image/svg+xml": "<?xml version=\"1.0\" encoding=\"UTF-8\" standalone=\"no\"?>\n<!DOCTYPE svg PUBLIC \"-//W3C//DTD SVG 1.1//EN\"\n \"http://www.w3.org/Graphics/SVG/1.1/DTD/svg11.dtd\">\n<!-- Generated by graphviz version 2.40.1 (20161225.0304)\n -->\n<!-- Title: G Pages: 1 -->\n<svg width=\"791pt\" height=\"233pt\"\n viewBox=\"0.00 0.00 791.06 233.00\" xmlns=\"http://www.w3.org/2000/svg\" xmlns:xlink=\"http://www.w3.org/1999/xlink\">\n<g id=\"graph0\" class=\"graph\" transform=\"scale(1 1) rotate(0) translate(4 229)\">\n<title>G</title>\n<polygon fill=\"#ffffff\" stroke=\"transparent\" points=\"-4,4 -4,-229 787.0577,-229 787.0577,4 -4,4\"/>\n<!-- Loss -->\n<g id=\"node1\" class=\"node\">\n<title>Loss</title>\n<ellipse fill=\"none\" stroke=\"#000000\" cx=\"28.5975\" cy=\"-153\" rx=\"28.6953\" ry=\"18\"/>\n<text text-anchor=\"middle\" x=\"28.5975\" y=\"-149.3\" font-family=\"Times,serif\" font-size=\"14.00\" fill=\"#000000\">Loss</text>\n</g>\n<!-- sigmoid -->\n<g id=\"node2\" class=\"node\">\n<title>sigmoid</title>\n<ellipse fill=\"none\" stroke=\"#000000\" cx=\"134.1413\" cy=\"-153\" rx=\"40.8928\" ry=\"18\"/>\n<text text-anchor=\"middle\" x=\"134.1413\" y=\"-149.3\" font-family=\"Times,serif\" font-size=\"14.00\" fill=\"#000000\">sigmoid</text>\n</g>\n<!-- Loss&#45;&gt;sigmoid -->\n<g id=\"edge1\" class=\"edge\">\n<title>Loss&#45;&gt;sigmoid</title>\n<path fill=\"none\" stroke=\"#000000\" d=\"M57.4378,-153C65.3341,-153 74.1374,-153 82.885,-153\"/>\n<polygon fill=\"#000000\" stroke=\"#000000\" points=\"83.0709,-156.5001 93.0709,-153 83.0708,-149.5001 83.0709,-156.5001\"/>\n</g>\n<!-- linear3 -->\n<g id=\"node3\" class=\"node\">\n<title>linear3</title>\n<ellipse fill=\"none\" stroke=\"#000000\" cx=\"247.4844\" cy=\"-153\" rx=\"36.2938\" ry=\"18\"/>\n<text text-anchor=\"middle\" x=\"247.4844\" y=\"-149.3\" font-family=\"Times,serif\" font-size=\"14.00\" fill=\"#000000\">linear3</text>\n</g>\n<!-- sigmoid&#45;&gt;linear3 -->\n<g id=\"edge2\" class=\"edge\">\n<title>sigmoid&#45;&gt;linear3</title>\n<path fill=\"none\" stroke=\"#000000\" d=\"M175.3814,-153C183.6613,-153 192.417,-153 200.8648,-153\"/>\n<polygon fill=\"#000000\" stroke=\"#000000\" points=\"200.9639,-156.5001 210.9639,-153 200.9638,-149.5001 200.9639,-156.5001\"/>\n</g>\n<!-- W3 -->\n<g id=\"node4\" class=\"node\">\n<title>W3</title>\n<ellipse fill=\"none\" stroke=\"#000000\" cx=\"349.7785\" cy=\"-207\" rx=\"27\" ry=\"18\"/>\n<text text-anchor=\"middle\" x=\"349.7785\" y=\"-203.3\" font-family=\"Times,serif\" font-size=\"14.00\" fill=\"#000000\">W3</text>\n</g>\n<!-- linear3&#45;&gt;W3 -->\n<g id=\"edge3\" class=\"edge\">\n<title>linear3&#45;&gt;W3</title>\n<path fill=\"none\" stroke=\"#000000\" d=\"M272.5084,-166.2099C286.7133,-173.7085 304.5928,-183.1469 319.5745,-191.0556\"/>\n<polygon fill=\"#000000\" stroke=\"#000000\" points=\"317.9922,-194.178 328.4696,-195.7512 321.26,-187.9876 317.9922,-194.178\"/>\n</g>\n<!-- B3 -->\n<g id=\"node5\" class=\"node\">\n<title>B3</title>\n<ellipse fill=\"none\" stroke=\"#000000\" cx=\"349.7785\" cy=\"-153\" rx=\"27\" ry=\"18\"/>\n<text text-anchor=\"middle\" x=\"349.7785\" y=\"-149.3\" font-family=\"Times,serif\" font-size=\"14.00\" fill=\"#000000\">B3</text>\n</g>\n<!-- linear3&#45;&gt;B3 -->\n<g id=\"edge4\" class=\"edge\">\n<title>linear3&#45;&gt;B3</title>\n<path fill=\"none\" stroke=\"#000000\" d=\"M284.126,-153C293.3729,-153 303.3094,-153 312.5833,-153\"/>\n<polygon fill=\"#000000\" stroke=\"#000000\" points=\"312.7002,-156.5001 322.7001,-153 312.7001,-149.5001 312.7002,-156.5001\"/>\n</g>\n<!-- relu2 -->\n<g id=\"node6\" class=\"node\">\n<title>relu2</title>\n<ellipse fill=\"none\" stroke=\"#000000\" cx=\"349.7785\" cy=\"-99\" rx=\"29.795\" ry=\"18\"/>\n<text text-anchor=\"middle\" x=\"349.7785\" y=\"-95.3\" font-family=\"Times,serif\" font-size=\"14.00\" fill=\"#000000\">relu2</text>\n</g>\n<!-- linear3&#45;&gt;relu2 -->\n<g id=\"edge5\" class=\"edge\">\n<title>linear3&#45;&gt;relu2</title>\n<path fill=\"none\" stroke=\"#000000\" d=\"M272.5084,-139.7901C286.1911,-132.5672 303.2833,-123.5444 317.9109,-115.8226\"/>\n<polygon fill=\"#000000\" stroke=\"#000000\" points=\"319.8974,-118.7317 327.1069,-110.9681 316.6295,-112.5413 319.8974,-118.7317\"/>\n</g>\n<!-- linear2 -->\n<g id=\"node7\" class=\"node\">\n<title>linear2</title>\n<ellipse fill=\"none\" stroke=\"#000000\" cx=\"452.0727\" cy=\"-99\" rx=\"36.2938\" ry=\"18\"/>\n<text text-anchor=\"middle\" x=\"452.0727\" y=\"-95.3\" font-family=\"Times,serif\" font-size=\"14.00\" fill=\"#000000\">linear2</text>\n</g>\n<!-- relu2&#45;&gt;linear2 -->\n<g id=\"edge6\" class=\"edge\">\n<title>relu2&#45;&gt;linear2</title>\n<path fill=\"none\" stroke=\"#000000\" d=\"M379.9169,-99C387.9651,-99 396.8532,-99 405.5607,-99\"/>\n<polygon fill=\"#000000\" stroke=\"#000000\" points=\"405.6385,-102.5001 415.6385,-99 405.6384,-95.5001 405.6385,-102.5001\"/>\n</g>\n<!-- W2 -->\n<g id=\"node8\" class=\"node\">\n<title>W2</title>\n<ellipse fill=\"none\" stroke=\"#000000\" cx=\"554.3668\" cy=\"-153\" rx=\"27\" ry=\"18\"/>\n<text text-anchor=\"middle\" x=\"554.3668\" y=\"-149.3\" font-family=\"Times,serif\" font-size=\"14.00\" fill=\"#000000\">W2</text>\n</g>\n<!-- linear2&#45;&gt;W2 -->\n<g id=\"edge7\" class=\"edge\">\n<title>linear2&#45;&gt;W2</title>\n<path fill=\"none\" stroke=\"#000000\" d=\"M477.0966,-112.2099C491.3015,-119.7085 509.1811,-129.1469 524.1628,-137.0556\"/>\n<polygon fill=\"#000000\" stroke=\"#000000\" points=\"522.5804,-140.178 533.0578,-141.7512 525.8483,-133.9876 522.5804,-140.178\"/>\n</g>\n<!-- B2 -->\n<g id=\"node9\" class=\"node\">\n<title>B2</title>\n<ellipse fill=\"none\" stroke=\"#000000\" cx=\"554.3668\" cy=\"-99\" rx=\"27\" ry=\"18\"/>\n<text text-anchor=\"middle\" x=\"554.3668\" y=\"-95.3\" font-family=\"Times,serif\" font-size=\"14.00\" fill=\"#000000\">B2</text>\n</g>\n<!-- linear2&#45;&gt;B2 -->\n<g id=\"edge8\" class=\"edge\">\n<title>linear2&#45;&gt;B2</title>\n<path fill=\"none\" stroke=\"#000000\" d=\"M488.7143,-99C497.9612,-99 507.8977,-99 517.1715,-99\"/>\n<polygon fill=\"#000000\" stroke=\"#000000\" points=\"517.2884,-102.5001 527.2884,-99 517.2883,-95.5001 517.2884,-102.5001\"/>\n</g>\n<!-- relu1 -->\n<g id=\"node10\" class=\"node\">\n<title>relu1</title>\n<ellipse fill=\"none\" stroke=\"#000000\" cx=\"554.3668\" cy=\"-45\" rx=\"29.795\" ry=\"18\"/>\n<text text-anchor=\"middle\" x=\"554.3668\" y=\"-41.3\" font-family=\"Times,serif\" font-size=\"14.00\" fill=\"#000000\">relu1</text>\n</g>\n<!-- linear2&#45;&gt;relu1 -->\n<g id=\"edge9\" class=\"edge\">\n<title>linear2&#45;&gt;relu1</title>\n<path fill=\"none\" stroke=\"#000000\" d=\"M477.0966,-85.7901C490.7793,-78.5672 507.8715,-69.5444 522.4992,-61.8226\"/>\n<polygon fill=\"#000000\" stroke=\"#000000\" points=\"524.4856,-64.7317 531.6951,-56.9681 521.2178,-58.5413 524.4856,-64.7317\"/>\n</g>\n<!-- linear1 -->\n<g id=\"node11\" class=\"node\">\n<title>linear1</title>\n<ellipse fill=\"none\" stroke=\"#000000\" cx=\"656.6609\" cy=\"-45\" rx=\"36.2938\" ry=\"18\"/>\n<text text-anchor=\"middle\" x=\"656.6609\" y=\"-41.3\" font-family=\"Times,serif\" font-size=\"14.00\" fill=\"#000000\">linear1</text>\n</g>\n<!-- relu1&#45;&gt;linear1 -->\n<g id=\"edge10\" class=\"edge\">\n<title>relu1&#45;&gt;linear1</title>\n<path fill=\"none\" stroke=\"#000000\" d=\"M584.5051,-45C592.5533,-45 601.4415,-45 610.149,-45\"/>\n<polygon fill=\"#000000\" stroke=\"#000000\" points=\"610.2267,-48.5001 620.2267,-45 610.2267,-41.5001 610.2267,-48.5001\"/>\n</g>\n<!-- W1 -->\n<g id=\"node12\" class=\"node\">\n<title>W1</title>\n<ellipse fill=\"none\" stroke=\"#000000\" cx=\"756.0577\" cy=\"-72\" rx=\"27\" ry=\"18\"/>\n<text text-anchor=\"middle\" x=\"756.0577\" y=\"-68.3\" font-family=\"Times,serif\" font-size=\"14.00\" fill=\"#000000\">W1</text>\n</g>\n<!-- linear1&#45;&gt;W1 -->\n<g id=\"edge11\" class=\"edge\">\n<title>linear1&#45;&gt;W1</title>\n<path fill=\"none\" stroke=\"#000000\" d=\"M688.6578,-53.6916C698.9795,-56.4954 710.473,-59.6174 721.0033,-62.4779\"/>\n<polygon fill=\"#000000\" stroke=\"#000000\" points=\"720.1668,-65.8774 730.7346,-65.1213 722.0018,-59.1222 720.1668,-65.8774\"/>\n</g>\n<!-- B1 -->\n<g id=\"node13\" class=\"node\">\n<title>B1</title>\n<ellipse fill=\"none\" stroke=\"#000000\" cx=\"756.0577\" cy=\"-18\" rx=\"27\" ry=\"18\"/>\n<text text-anchor=\"middle\" x=\"756.0577\" y=\"-14.3\" font-family=\"Times,serif\" font-size=\"14.00\" fill=\"#000000\">B1</text>\n</g>\n<!-- linear1&#45;&gt;B1 -->\n<g id=\"edge12\" class=\"edge\">\n<title>linear1&#45;&gt;B1</title>\n<path fill=\"none\" stroke=\"#000000\" d=\"M688.6578,-36.3084C698.9795,-33.5046 710.473,-30.3826 721.0033,-27.5221\"/>\n<polygon fill=\"#000000\" stroke=\"#000000\" points=\"722.0018,-30.8778 730.7346,-24.8787 720.1668,-24.1226 722.0018,-30.8778\"/>\n</g>\n</g>\n</svg>\n"
          },
          "metadata": {},
          "execution_count": 15
        }
      ],
      "source": [
        "#hide_input\n",
        "gv('''\n",
        "Loss -> sigmoid->linear3\n",
        "linear3->W3\n",
        "linear3->B3\n",
        "linear3->relu2->linear2\n",
        "\n",
        "linear2->W2\n",
        "linear2->B2\n",
        "linear2->relu1->linear1\n",
        "\n",
        "linear1->W1\n",
        "linear1->B1\n",
        "''')"
      ]
    },
    {
      "cell_type": "markdown",
      "metadata": {
        "id": "ITuS2SCVSaN6"
      },
      "source": [
        "### The `Linear` Layer "
      ]
    },
    {
      "cell_type": "markdown",
      "metadata": {
        "id": "jTEraqHtSaN6"
      },
      "source": [
        "Below code creates a `Linear class` which represents a `Linear` layer in our neural-network. The `forward function` of the class implements the of the `layer's forward propagation` & the `backward function` implements the `layers's backward propagation`. Let's go to detail into what the code means:\n",
        "\n",
        "- **Forward:**  \n",
        "This part is quite straight-forward it computes the dot-product between the **`input`** and the **`weights`** & adds the **`bias`** term to get **`z`**. It also stores all the intermidiate values generated to use in the backward pass.\n",
        "\n",
        "\n",
        "- **Backward:**\n",
        "    * The backward method of the class **`Linear`** takes in the argument **`grads`**. \n",
        "    * **`grads`** is the gradient of the loss wrt to the output of the current linear layer ie., **`dz`** if we were to follow the nomenclature of our pseudo-code.\n",
        "    * To succesfully compute the backward pass for our linear layer we need the following:\n",
        "        - **`grad(z, w)`** \n",
        "        - **`grad(z, b)`**\n",
        "        - **`grad(z, a_prev)`**"
      ]
    },
    {
      "cell_type": "markdown",
      "metadata": {
        "id": "P2OPJZuISaN7"
      },
      "source": [
        "\n",
        "\n",
        "> Note: `z`, `w`, `b`, `a_prev` are the outputs, weights, bias and input-activations of the Linear layer respectively."
      ]
    },
    {
      "cell_type": "code",
      "execution_count": 16,
      "metadata": {
        "id": "DuiKGGXoSaN7"
      },
      "outputs": [],
      "source": [
        "class Linear:\n",
        "    def __init__(self, w, b):\n",
        "        self.w = w\n",
        "        self.b = b\n",
        "        \n",
        "    def forward(self, inp):\n",
        "        \"\"\"\n",
        "        Implement the linear part of a layer's forward propagation.\n",
        "        \n",
        "        Args:\n",
        "            inp : activations from previous layer (or input data)\n",
        "        \n",
        "        Returns:\n",
        "\n",
        "            z  : the input of the activation function, also called pre-activation parameter \n",
        "        \"\"\"\n",
        "        self.inp = inp\n",
        "        self.z   = inp @ self.w + self.b\n",
        "        return self.z\n",
        "    \n",
        "    def backward(self, grads):\n",
        "        \"\"\"\n",
        "        Implement the linear portion of backward propagation for a single layer.\n",
        "\n",
        "        Args:\n",
        "            grads :  Gradient of the cost with respect to the linear output. \n",
        "                     or the accumulated gradients from the prev layers. \n",
        "                     This is used for the chain rule to compute the gradients.\n",
        "        Returns:\n",
        "            da : Gradient of cost wrt to the activation of the previous layer or the input of the \n",
        "                 current layer.\n",
        "            dw : Gradient of the cost with respect to W\n",
        "            db : Gradient of the cost with respect to b\n",
        "        \"\"\"\n",
        "        m = self.inp.shape[1]\n",
        "        # gradient of loss wrt to the weights\n",
        "        dw = 1/m * (self.inp.T @ grads)\n",
        "        # gradient of the loss wrt to the bias\n",
        "        db = 1/m * np.sum(grads, axis=0, keepdims=True)\n",
        "        # gradient of the loss wrt to the input of the linear layer\n",
        "        # this is used to continue the chain rule\n",
        "        da_prev = grads @ self.w.T \n",
        "        return (da_prev, dw, db)"
      ]
    },
    {
      "cell_type": "markdown",
      "metadata": {
        "id": "VxQTRwxWSaN7"
      },
      "source": [
        "### The `ReLU` Layer"
      ]
    },
    {
      "cell_type": "markdown",
      "metadata": {
        "id": "r7xKlaesSaN7"
      },
      "source": [
        "- **Forward**:  \n",
        "The mathematical formula for ReLU is $A = RELU(Z) = max(0, Z)$\n",
        "- **Backward**:  \n",
        "During the backward pass the relu accepts the gradients of the `loss wrt to the activation` i.e, `da` then computes\n",
        "the gradients of the `loss wrt to the input-of-relu(z)` i.e, `dz`."
      ]
    },
    {
      "cell_type": "code",
      "execution_count": 17,
      "metadata": {
        "id": "W_K0enoISaN7"
      },
      "outputs": [],
      "source": [
        "class RelU:\n",
        "    def forward(self, inp):\n",
        "        \"\"\"\n",
        "        Implement the RELU function.\n",
        "\n",
        "        Args:\n",
        "            inp : Output of the linear layer, of any shape\n",
        "\n",
        "        Returns:\n",
        "            a  : Post-activation parameter, of the same shape as Z\n",
        "        \"\"\"\n",
        "        self.inp = inp\n",
        "        self.output = np.maximum(0, self.inp)\n",
        "        return self.output\n",
        "    \n",
        "    def backward(self, grads):\n",
        "        \"\"\"\n",
        "        Implement the backward propagation for a single RELU unit.\n",
        "\n",
        "        Ars:\n",
        "            grads : gradients of the loss wrt to the activation output\n",
        "\n",
        "        Returns:\n",
        "            dz : Gradient of the loss with respect to the input of the activation\n",
        "        \"\"\"\n",
        "        dz = np.array(grads, copy=True)\n",
        "        dz[self.inp <= 0] = 0\n",
        "        return dz"
      ]
    },
    {
      "cell_type": "markdown",
      "metadata": {
        "id": "s5pDD6dqSaN7"
      },
      "source": [
        "### The `sigmoid` Layer"
      ]
    },
    {
      "cell_type": "markdown",
      "metadata": {
        "id": "mzF-ldv4SaN7"
      },
      "source": [
        "The sigmoid layer functions in exactly the same way as the `ReLU` layer . The only difference is the forward pass output calculation. \n",
        "\n",
        "\n",
        "In the `sigmoid layer`:  $\\sigma(Z) = \\frac{1}{ 1 + e^{-(W A + b)}}$"
      ]
    },
    {
      "cell_type": "code",
      "execution_count": 18,
      "metadata": {
        "id": "LfKtzNXxSaN7"
      },
      "outputs": [],
      "source": [
        "class Sigmoid:\n",
        "    def forward(self, inp):\n",
        "        \"\"\"\n",
        "        Implements the sigmoid activation in numpy\n",
        "\n",
        "        Args:\n",
        "            inp: numpy array of any shape\n",
        "\n",
        "        Returns:\n",
        "            a  : output of sigmoid(z), same shape as inp\n",
        "        \"\"\"\n",
        "        self.inp = inp\n",
        "        self.out =  1/(1+np.exp(-self.inp))\n",
        "        return self.out\n",
        "    \n",
        "    def backward(self, grads):\n",
        "        \"\"\"\n",
        "        Implement the backward propagation for a single sigmoid unit.\n",
        "\n",
        "        Args:\n",
        "            grads : gradients of the loss wrt to the activation output\n",
        "\n",
        "        Returns:\n",
        "            dz : Gradient of the loss with respect to the input of the activation\n",
        "        \"\"\"\n",
        "        s = 1/(1+np.exp(-self.inp))\n",
        "        dz = grads * s * (1-s)\n",
        "        return dz"
      ]
    },
    {
      "cell_type": "markdown",
      "metadata": {
        "id": "Fe2J0sWCSaN8"
      },
      "source": [
        "## `Loss` function :"
      ]
    },
    {
      "cell_type": "markdown",
      "metadata": {
        "id": "s7e6lDwRSaN8"
      },
      "source": [
        "For this task we are going to use the [CrossEntropy Loss](https://en.wikipedia.org/wiki/Cross_entropy)\n",
        "\n",
        "The `forward` pass of the CrossEntropy Loss is computed as follows: \n",
        "$$loss= -\\frac{1}{m} \\sum\\limits_{i = 1}^{m} (y^{(i)}\\log\\left(yhat^{(i)}\\right) + (1-y^{(i)})\\log\\left(1-yhat^{(i)}\\right)) $$"
      ]
    },
    {
      "cell_type": "code",
      "execution_count": 19,
      "metadata": {
        "id": "YHAVU_jHSaN8"
      },
      "outputs": [],
      "source": [
        "class CELoss():\n",
        "    def forward(self, pred, target):\n",
        "        \"\"\"\n",
        "        Implement the CrossEntropy loss function.\n",
        "\n",
        "        Args:\n",
        "            pred   : predicted labels from the neural network\n",
        "            target : true \"label\" labels\n",
        "        Returns:\n",
        "            loss   : cross-entropy loss\n",
        "        \"\"\"\n",
        "        self.yhat = pred\n",
        "        self.y = target\n",
        "        m = self.y.shape[0]\n",
        "        # commpute loss\n",
        "        term1 = (np.multiply(self.y, np.log(self.yhat)))\n",
        "        term2 = (np.multiply((1-self.y),(np.log(1-self.yhat))))\n",
        "        loss = -1/m * np.sum(term1+term2)\n",
        "        self.output = loss\n",
        "        return np.squeeze(self.output) # convert array to a single value number\n",
        "    \n",
        "    def backward(self):\n",
        "        \"\"\"\n",
        "        Computes the gradinets of the loss_fn wrt to the predicted labels\n",
        "        \n",
        "        Returns:\n",
        "         da : derivative of loss_fn wrt to the predicted labels\n",
        "        \"\"\"\n",
        "        # derivative of loss_fn with respect to a [predicted labels]\n",
        "        da = - (np.divide(self.y, self.yhat) - np.divide(1 - self.y, 1 - self.yhat)) \n",
        "        return da"
      ]
    },
    {
      "cell_type": "markdown",
      "metadata": {
        "id": "iysE8AsESaN8"
      },
      "source": [
        "## Model:\n",
        "\n",
        "**Let's go over the architecture that we are going to use for our neural netwok:**\n",
        "\n",
        "- Our model is going to have 2 hidden layers and a output layer. \n",
        "- The 2 `hidden layers` `(linear layers)` are going to have `16 units` each followed by a `ReLU` activation layer and the `output layer` `(linear layer)` is going to have `1 unit` followed by a `Sigmoid` unit. \n",
        "- The output layer is going to predict the `probability` of wether the given input is either a `0` or a `1`. If the predicted probability is `> 0.5 we` will assumse that the `predicted output` is `1` else `0`."
      ]
    },
    {
      "cell_type": "markdown",
      "metadata": {
        "id": "Rq_W28XDSaN8"
      },
      "source": [
        "Let's assemble the layers required to construct out model:"
      ]
    },
    {
      "cell_type": "markdown",
      "metadata": {
        "id": "b1wKjV4GSaN8"
      },
      "source": [
        "**These are our inputs and targets:**"
      ]
    },
    {
      "cell_type": "code",
      "execution_count": 20,
      "metadata": {
        "id": "Fez5WX97SaN8",
        "outputId": "b54df4a1-2b0c-4a44-9722-90700e2f829e",
        "colab": {
          "base_uri": "https://localhost:8080/",
          "height": 347
        }
      },
      "outputs": [
        {
          "output_type": "stream",
          "name": "stdout",
          "text": [
            "Shape of Inputs: (12665, 784)\n",
            "Shape of Targets: (12665, 1)\n"
          ]
        },
        {
          "output_type": "display_data",
          "data": {
            "text/plain": [
              "<Figure size 864x360 with 10 Axes>"
            ],
            "image/png": "[encoded data removed]"
          },
          "metadata": {
            "needs_background": "light"
          }
        }
      ],
      "source": [
        "#collapse\n",
        "print(\"Shape of Inputs:\", x_train.shape)\n",
        "print(\"Shape of Targets:\", y_train.shape)\n",
        "\n",
        "fig = plt.figure(figsize=(12,5))\n",
        "for i in range(10):\n",
        "    n = np.random.randint(len(x_train))\n",
        "    val = x_train[n]\n",
        "    ax = plt.subplot(2, 5, i+1)\n",
        "    plt.imshow(val.reshape(28,28), cmap=\"binary\")\n",
        "    plt.title(f\"Target value: {y_train[n].squeeze()}\")\n",
        "    plt.axis(\"off\")"
      ]
    },
    {
      "cell_type": "markdown",
      "metadata": {
        "id": "XVB1tcELSaN9"
      },
      "source": [
        "**Initialize model parameters:**"
      ]
    },
    {
      "cell_type": "code",
      "execution_count": 21,
      "metadata": {
        "id": "F_ZlSGFWSaN9",
        "outputId": "9186c333-6097-4768-de1c-c130295f17d4",
        "colab": {
          "base_uri": "https://localhost:8080/"
        }
      },
      "outputs": [
        {
          "output_type": "execute_result",
          "data": {
            "text/plain": [
              "((784, 16), (1, 16), (16, 16), (1, 16), (16, 1), (1, 1))"
            ]
          },
          "metadata": {},
          "execution_count": 21
        }
      ],
      "source": [
        "#hide_output\n",
        "\n",
        "nh1 = 16 # no. of units in the first hidden layer\n",
        "nh2 = 16 # no. of units in the 2nd hidden layer\n",
        "nh3 = 1 # no. of units in the output layer\n",
        "\n",
        "w1  = np.random.randn(x_train.shape[1], nh1) * 0.01\n",
        "b1  = np.zeros((1, nh1))\n",
        "\n",
        "w2  = np.random.randn(nh1, nh2) * 0.01\n",
        "b2  = np.zeros((1, nh2))\n",
        "\n",
        "w3  = np.random.randn(nh2, nh3)\n",
        "b3  = np.zeros((1, nh3))\n",
        "\n",
        "w1.shape, b1.shape, w2.shape, b2.shape, w3.shape, b3.shape"
      ]
    },
    {
      "cell_type": "markdown",
      "metadata": {
        "id": "wb1eOHR5SaN9"
      },
      "source": [
        "**Instaniating the layers needed to construct our model:**"
      ]
    },
    {
      "cell_type": "code",
      "execution_count": 22,
      "metadata": {
        "id": "ZdEN6loeSaN9"
      },
      "outputs": [],
      "source": [
        "lin1    = Linear(w1,b1) # 1 hidden layer\n",
        "relu1   = RelU()\n",
        "lin2    = Linear(w2,b2) # 2nd hidden layer\n",
        "relu2   = RelU()\n",
        "lin3    = Linear(w3,b3) # output layer\n",
        "sigmoid = Sigmoid()\n",
        "\n",
        "loss_fn = CELoss() # loss_fn"
      ]
    },
    {
      "cell_type": "markdown",
      "metadata": {
        "id": "TzfrstD8SaN9"
      },
      "source": [
        "### Forward pass:"
      ]
    },
    {
      "cell_type": "code",
      "execution_count": 23,
      "metadata": {
        "id": "WnbB8ZavSaN9",
        "outputId": "b3a00b98-b2af-4461-894e-2015ea873956",
        "colab": {
          "base_uri": "https://localhost:8080/"
        }
      },
      "outputs": [
        {
          "output_type": "stream",
          "name": "stdout",
          "text": [
            "Loss: 0.8564794856801441\n"
          ]
        }
      ],
      "source": [
        "# forward pass\n",
        "z1   = lin1.forward(x_train)\n",
        "a1   = relu1.forward(z1)\n",
        "z2   = lin2.forward(a1)\n",
        "a2   = relu2.forward(z2)\n",
        "z3   = lin3.forward(a2)\n",
        "pred = a3 = sigmoid.forward(z3)\n",
        "\n",
        "# calculate loss\n",
        "loss = loss_fn.forward(pred, y_train)\n",
        "print(\"Loss:\", loss) # print out the loss"
      ]
    },
    {
      "cell_type": "markdown",
      "metadata": {
        "id": "9IfgwtgoSaN-"
      },
      "source": [
        "### Backward pass:"
      ]
    },
    {
      "cell_type": "code",
      "execution_count": 24,
      "metadata": {
        "id": "S_x4xY66SaN-"
      },
      "outputs": [],
      "source": [
        "# backward pass\n",
        "da3 = loss_fn.backward() # gradient of loss wrt to final output\n",
        "dz3 = sigmoid.backward(da3)\n",
        "\n",
        "da2, dw3, db3 = lin3.backward(dz3)\n",
        "\n",
        "dz2 = relu2.backward(da2)\n",
        "da1, dw2, db2 = lin2.backward(dz2)\n",
        "\n",
        "dz1 = relu1.backward(da1)\n",
        "_, dw1, db1 = lin1.backward(da1)\n",
        "\n",
        "# check if the parameters and the gradients are of same shape\n",
        "# so that we can preform the update state\n",
        "assert lin1.w.shape == dw1.shape\n",
        "assert lin2.w.shape == dw2.shape\n",
        "assert lin3.w.shape == dw3.shape\n",
        "\n",
        "assert lin1.b.shape == db1.shape\n",
        "assert lin2.b.shape == db2.shape\n",
        "assert lin3.b.shape == db3.shape"
      ]
    },
    {
      "cell_type": "markdown",
      "metadata": {
        "id": "SoD6e8SRSaN-"
      },
      "source": [
        "### Update parameters:"
      ]
    },
    {
      "cell_type": "code",
      "execution_count": 25,
      "metadata": {
        "id": "18TzTJXZSaN-"
      },
      "outputs": [],
      "source": [
        "# set learning rate\n",
        "learning_rate = 0.0002\n",
        "\n",
        "# update parameters \n",
        "lin1.w -= learning_rate * dw1\n",
        "lin2.w -= learning_rate * dw2\n",
        "lin3.w -= learning_rate * dw3\n",
        "\n",
        "lin1.b -= learning_rate * db1\n",
        "lin2.b -= learning_rate * db2\n",
        "lin3.b -= learning_rate * db3"
      ]
    },
    {
      "cell_type": "markdown",
      "metadata": {
        "id": "YZnwEXkhSaN-"
      },
      "source": [
        "So, this is how our training our model is going to look we first calculate the `loss` of the model during the `forward pass` , then we calculate the gradients of the `loss` wrt to the `parameters` of the model. After which these `gradients` are used to `update the model parameters`. We continue this workflow for a certain number of `iterations` or until our `loss` reaches the desired value.\n",
        "\n",
        "Let's code up a class which will make this steps easir to achieve."
      ]
    },
    {
      "cell_type": "markdown",
      "metadata": {
        "id": "CyGPYP8tSaN-"
      },
      "source": [
        "### Putting it all together:"
      ]
    },
    {
      "cell_type": "markdown",
      "metadata": {
        "id": "009fKcvuSaN-"
      },
      "source": [
        "- **Initializing parameters:**"
      ]
    },
    {
      "cell_type": "code",
      "execution_count": 26,
      "metadata": {
        "id": "kWSNVvkySaN_",
        "outputId": "6596e661-67ed-42e8-de9c-985f2e924bb8",
        "colab": {
          "base_uri": "https://localhost:8080/"
        }
      },
      "outputs": [
        {
          "output_type": "execute_result",
          "data": {
            "text/plain": [
              "((784, 16), (1, 16), (16, 16), (1, 16), (16, 1), (1, 1))"
            ]
          },
          "metadata": {},
          "execution_count": 26
        }
      ],
      "source": [
        "#hide_output\n",
        "\n",
        "# Instantiate parameters\n",
        "nh1 = 16 # no. of units in the first hidden layer\n",
        "nh2 = 16 # no. of units in the 2nd hidden layer\n",
        "nh3 = 1 # no. of units in the output layer\n",
        "\n",
        "w1  = np.random.randn(x_train.shape[1], nh1) * 0.01\n",
        "b1  = np.zeros((1, nh1))\n",
        "\n",
        "w2  = np.random.randn(nh1, nh2) * 0.01\n",
        "b2  = np.zeros((1, nh2))\n",
        "\n",
        "w3  = np.random.randn(nh2, nh3)\n",
        "b3  = np.zeros((1, nh3))\n",
        "\n",
        "w1.shape, b1.shape, w2.shape, b2.shape, w3.shape, b3.shape"
      ]
    },
    {
      "cell_type": "markdown",
      "metadata": {
        "id": "stZRZOyLSaN_"
      },
      "source": [
        "For our convenice, we will create a `Model` class . \n",
        "\n",
        "This `Model` class will store all the parameters for our neural-network.\n",
        "The `forward` method will compute the `forward pass` of the network to generate the `loss` (and or `predictions`) of the model. The `backward` method will compute the `backward pass` of the network to get the gradinets of the `loss` wrt to the `parameters` of the model. Finally the `update` method will update the parameters of the model."
      ]
    },
    {
      "cell_type": "code",
      "execution_count": 27,
      "metadata": {
        "id": "xI8fD6JFSaN_"
      },
      "outputs": [],
      "source": [
        "class Model:\n",
        "    def __init__(self, learning_rate):\n",
        "        \"\"\"\n",
        "        A simple neural network model\n",
        "        The `forward` method computes the forward propagation step of the model\n",
        "        The `backward` method computes the backward step propagation of the model\n",
        "        The `update_step` method updates the parameters of the model\n",
        "        \"\"\"\n",
        "        self.lin1    = Linear(w1,b1) # 1st linear layer\n",
        "        self.relu1   = RelU()        # 1st activation layer\n",
        "        self.lin2    = Linear(w2,b2) # 2nd linear layer\n",
        "        self.relu2   = RelU()        # 2nd activation layer\n",
        "        self.lin3    = Linear(w3,b3) # 3rd linear layer\n",
        "        self.sigmoid = Sigmoid()     # 3rd activation layer\n",
        "        self.loss_fn = CELoss()      # loss_fn\n",
        "        \n",
        "        # learning_rate to update model parameters\n",
        "        self.lr      = learning_rate\n",
        "        # stores the loss at each iteration\n",
        "        self.losses  = [] \n",
        "\n",
        "\n",
        "    def forward(self, inp, calc_loss=True, targ=None):\n",
        "        \"\"\"\n",
        "        Computs the forward step for out model Additionally\n",
        "        it also returns the loss [Optional] and the predictions\n",
        "        of the model.\n",
        "        \n",
        "        Args:\n",
        "            inp       : the training set.\n",
        "            calc_loss : wether to calculate loss of the model if False only predictions\n",
        "                        are calculated.\n",
        "            targ      : the original targets to the training set. \n",
        "        \n",
        "        Note: to calculate the `loss` the `targ` must be given\n",
        "        \n",
        "        Returns:\n",
        "            pred : outputs of the 3rd activation layer.\n",
        "            loss : [Optional] loss the model , if the `targ` is given.\n",
        "        \"\"\"\n",
        "        out  = self.relu1.forward(self.lin1.forward(inp))\n",
        "        out  = self.relu2.forward(self.lin2.forward(out))\n",
        "        pred = self.sigmoid.forward(self.lin3.forward(out))\n",
        "        \n",
        "        if calc_loss:\n",
        "            assert targ is not None, \"to calculate loss targets must be given\"\n",
        "            loss = self.loss_fn.forward(pred, targ)\n",
        "            # appending the loss of the current iteration\n",
        "            self.losses.append(loss)\n",
        "            return loss, pred\n",
        "        else:\n",
        "            return pred\n",
        "        \n",
        "    def _assert_shapes(self):\n",
        "        \"\"\"\n",
        "        Checks the shape of the parameters and the gradients of the model\n",
        "        \"\"\"\n",
        "        assert lin1.w.shape == dw1.shape\n",
        "        assert lin2.w.shape == dw2.shape\n",
        "        assert lin3.w.shape == dw3.shape\n",
        "\n",
        "        assert lin1.b.shape == db1.shape\n",
        "        assert lin2.b.shape == db2.shape\n",
        "        assert lin3.b.shape == db3.shape\n",
        "\n",
        "\n",
        "    def backward(self):\n",
        "        \"\"\"\n",
        "        Computes the backward step\n",
        "        and return the gradients of the parameters with the loss\n",
        "        \"\"\"\n",
        "        da3 = self.loss_fn.backward()\n",
        "        dz3 = self.sigmoid.backward(da3)\n",
        "        da2, dw3, db3 = self.lin3.backward(dz3)\n",
        "        \n",
        "        dz2 = self.relu2.backward(da2)\n",
        "        da1, dw2, db2 = self.lin2.backward(dz2)\n",
        "\n",
        "        dz1 = self.relu1.backward(da1)\n",
        "        _, dw1, db1 = self.lin1.backward(dz1)\n",
        "        \n",
        "        self._assert_shapes()\n",
        "\n",
        "        self.dws = [dw1, dw2, dw3]\n",
        "        self.dbs = [db1, db2, db3]\n",
        "\n",
        "\n",
        "    def update(self):\n",
        "        \"\"\"\n",
        "        Performs the update step\n",
        "        \"\"\"\n",
        "        self.lin1.w -= self.lr * self.dws[0]\n",
        "        self.lin2.w -= self.lr * self.dws[1]\n",
        "        self.lin3.w -= self.lr * self.dws[2]\n",
        "\n",
        "        self.lin1.b -= self.lr * self.dbs[0]\n",
        "        self.lin2.b -= self.lr * self.dbs[1]\n",
        "        self.lin3.b -= self.lr * self.dbs[2]"
      ]
    },
    {
      "cell_type": "code",
      "execution_count": 28,
      "metadata": {
        "scrolled": false,
        "id": "mlPD3XtaSaN_",
        "outputId": "71adce37-49f7-4348-bcc4-9caa66778854",
        "colab": {
          "base_uri": "https://localhost:8080/"
        }
      },
      "outputs": [
        {
          "output_type": "stream",
          "name": "stdout",
          "text": [
            "Loss after interation 0 is 0.7024\n",
            "Loss after interation 1 is 0.4431\n",
            "Loss after interation 2 is 0.3046\n",
            "Loss after interation 3 is 0.2305\n",
            "Loss after interation 4 is 0.1933\n",
            "Loss after interation 5 is 0.1690\n",
            "Loss after interation 6 is 0.1506\n",
            "Loss after interation 7 is 0.1361\n",
            "Loss after interation 8 is 0.1245\n",
            "Loss after interation 9 is 0.1150\n",
            "Loss after interation 10 is 0.1069\n",
            "Loss after interation 11 is 0.1000\n",
            "Loss after interation 12 is 0.0940\n",
            "Loss after interation 13 is 0.0887\n",
            "Loss after interation 14 is 0.0840\n",
            "Loss after interation 15 is 0.0799\n",
            "Loss after interation 16 is 0.0761\n",
            "Loss after interation 17 is 0.0727\n",
            "Loss after interation 18 is 0.0695\n",
            "Loss after interation 19 is 0.0666\n",
            "Loss after interation 20 is 0.0639\n",
            "Loss after interation 21 is 0.0615\n",
            "Loss after interation 22 is 0.0592\n",
            "Loss after interation 23 is 0.0571\n",
            "Loss after interation 24 is 0.0551\n",
            "Loss after interation 25 is 0.0533\n",
            "Loss after interation 26 is 0.0516\n",
            "Loss after interation 27 is 0.0500\n",
            "Loss after interation 28 is 0.0485\n",
            "Loss after interation 29 is 0.0472\n",
            "Loss after interation 30 is 0.0459\n",
            "Loss after interation 31 is 0.0447\n",
            "Loss after interation 32 is 0.0435\n",
            "Loss after interation 33 is 0.0425\n",
            "Loss after interation 34 is 0.0415\n",
            "Loss after interation 35 is 0.0405\n",
            "Loss after interation 36 is 0.0396\n",
            "Loss after interation 37 is 0.0388\n",
            "Loss after interation 38 is 0.0380\n",
            "Loss after interation 39 is 0.0372\n",
            "Loss after interation 40 is 0.0365\n",
            "Loss after interation 41 is 0.0358\n",
            "Loss after interation 42 is 0.0351\n",
            "Loss after interation 43 is 0.0345\n",
            "Loss after interation 44 is 0.0339\n",
            "Loss after interation 45 is 0.0334\n",
            "Loss after interation 46 is 0.0328\n",
            "Loss after interation 47 is 0.0323\n",
            "Loss after interation 48 is 0.0318\n",
            "Loss after interation 49 is 0.0314\n",
            "Loss after interation 50 is 0.0309\n",
            "Loss after interation 51 is 0.0305\n",
            "Loss after interation 52 is 0.0301\n",
            "Loss after interation 53 is 0.0297\n",
            "Loss after interation 54 is 0.0293\n",
            "Loss after interation 55 is 0.0289\n",
            "Loss after interation 56 is 0.0285\n",
            "Loss after interation 57 is 0.0282\n",
            "Loss after interation 58 is 0.0279\n",
            "Loss after interation 59 is 0.0275\n"
          ]
        }
      ],
      "source": [
        "nn = Model(learning_rate=0.000005)\n",
        "epochs = 60 # no. of iterations to train\n",
        "\n",
        "for n in range(epochs):\n",
        "    loss , _ = nn.forward(x_train, calc_loss=True, targ=y_train)\n",
        "    nn.backward()\n",
        "    nn.update()\n",
        "    print(f\"Loss after interation {n} is {loss:.4f}\")"
      ]
    },
    {
      "cell_type": "code",
      "execution_count": 29,
      "metadata": {
        "id": "zfL34tQ0SaN_",
        "outputId": "ea254928-4a3f-40e3-aa15-423e08652c22",
        "colab": {
          "base_uri": "https://localhost:8080/",
          "height": 295
        }
      },
      "outputs": [
        {
          "output_type": "display_data",
          "data": {
            "text/plain": [
              "<Figure size 432x288 with 1 Axes>"
            ],
            "image/png": "[encoded data removed]"
          },
          "metadata": {
            "needs_background": "light"
          }
        }
      ],
      "source": [
        "#collapse\n",
        "plt.plot(nn.losses, color=\"teal\")\n",
        "plt.title(\"Loss per Iteration\")\n",
        "plt.xlabel(\"Iteration\")\n",
        "plt.ylabel(\"Loss\");"
      ]
    },
    {
      "cell_type": "markdown",
      "metadata": {
        "id": "L8wFBHgYSaN_"
      },
      "source": [
        "## Computing accuracy of our model"
      ]
    },
    {
      "cell_type": "markdown",
      "metadata": {
        "id": "p3kcN10bSaOA"
      },
      "source": [
        "**Let's check our model performance by computing the `accuracy` on the `validation` dataset**"
      ]
    },
    {
      "cell_type": "code",
      "execution_count": 30,
      "metadata": {
        "id": "P9_RlDvHSaOA"
      },
      "outputs": [],
      "source": [
        "def comp_accuracy(preds, targs):\n",
        "    \"\"\"\n",
        "    Fn that computes the accuracy between the predicted values and the targets\n",
        "    \"\"\"\n",
        "    m = len(targs)\n",
        "    p = np.zeros_like(preds)\n",
        "    # convert probas to 0/1 predictions\n",
        "    for i in range(len(preds)):\n",
        "        if preds[i] > 0.5:\n",
        "            p[i] = 1\n",
        "        else:\n",
        "            p[i] = 0\n",
        "    print(\"Accuracy: \"  + str(np.sum((p == targs)/m)))    "
      ]
    },
    {
      "cell_type": "markdown",
      "metadata": {
        "id": "GJ3eFat9SaOA"
      },
      "source": [
        "computing accuracy on the train set:"
      ]
    },
    {
      "cell_type": "code",
      "execution_count": 31,
      "metadata": {
        "id": "S8xk4tfYSaOA",
        "outputId": "1b97e6ec-7f82-4951-c44b-201833d01c20",
        "colab": {
          "base_uri": "https://localhost:8080/"
        }
      },
      "outputs": [
        {
          "output_type": "stream",
          "name": "stdout",
          "text": [
            "Accuracy: 0.9922621397552309\n"
          ]
        }
      ],
      "source": [
        "preds = nn.forward(x_train, calc_loss=False) # generate predictions from our model\n",
        "# compute accuracy\n",
        "comp_accuracy(preds, y_train)"
      ]
    },
    {
      "cell_type": "markdown",
      "metadata": {
        "id": "xpcnq5mKSaOA"
      },
      "source": [
        "computing accuracy on the validation set:"
      ]
    },
    {
      "cell_type": "code",
      "execution_count": 32,
      "metadata": {
        "id": "2JdczLdxSaOA",
        "outputId": "8a1d7c3e-b9e2-4180-92c6-437884239162",
        "colab": {
          "base_uri": "https://localhost:8080/"
        }
      },
      "outputs": [
        {
          "output_type": "stream",
          "name": "stdout",
          "text": [
            "Accuracy: 0.9914893617021273\n"
          ]
        }
      ],
      "source": [
        "preds = nn.forward(x_valid, calc_loss=False) # generate predictions from our model\n",
        "# compute accuracy\n",
        "comp_accuracy(preds, y_valid)"
      ]
    },
    {
      "cell_type": "markdown",
      "metadata": {
        "id": "v6hBChLzSaOA"
      },
      "source": [
        "> Note: our model achieved a `accuracy` of **`0.99`** on both the `train` and the `validation` set !"
      ]
    },
    {
      "cell_type": "markdown",
      "metadata": {
        "id": "7EWdo0KiSaOA"
      },
      "source": [
        "## Generating predictions from the model"
      ]
    },
    {
      "cell_type": "code",
      "execution_count": 33,
      "metadata": {
        "id": "CSn4JSUOSaOA",
        "outputId": "ed06cbd2-b42e-4b5a-8ba1-9da7c6a93b53",
        "colab": {
          "base_uri": "https://localhost:8080/",
          "height": 299
        }
      },
      "outputs": [
        {
          "output_type": "display_data",
          "data": {
            "text/plain": [
              "<Figure size 432x288 with 1 Axes>"
            ],
            "image/png": "[encoded data removed]"
          },
          "metadata": {
            "needs_background": "light"
          }
        },
        {
          "output_type": "stream",
          "name": "stdout",
          "text": [
            "Predicted output: 0\n"
          ]
        }
      ],
      "source": [
        "#collapse\n",
        "test_inp = x_valid[0] # one example from the validation set\n",
        "plt.title(\"Input: \")\n",
        "\n",
        "plt.imshow(test_inp.reshape(28,28), cmap=\"binary\")\n",
        "plt.show()\n",
        "\n",
        "pred = nn.forward(test_inp, calc_loss=False)\n",
        "predicted_val = int(pred > 0.5)\n",
        "print(f\"Predicted output: {predicted_val}\")"
      ]
    },
    {
      "cell_type": "code",
      "execution_count": 34,
      "metadata": {
        "id": "vhHJs_LvSaOB",
        "outputId": "e5ea2ca9-d0ac-4188-eceb-92f2cf1e4f74",
        "colab": {
          "base_uri": "https://localhost:8080/",
          "height": 299
        }
      },
      "outputs": [
        {
          "output_type": "display_data",
          "data": {
            "text/plain": [
              "<Figure size 432x288 with 1 Axes>"
            ],
            "image/png": "[encoded data removed]"
          },
          "metadata": {
            "needs_background": "light"
          }
        },
        {
          "output_type": "stream",
          "name": "stdout",
          "text": [
            "Predicted output: 1\n"
          ]
        }
      ],
      "source": [
        "#collapse\n",
        "test_inp = x_valid[1092] # one example from the validation set\n",
        "plt.title(\"Input: \")\n",
        "plt.imshow(test_inp.reshape(28,28), cmap=\"binary\")\n",
        "plt.show()\n",
        "\n",
        "pred = nn.forward(test_inp, calc_loss=False)\n",
        "predicted_val = int(pred > 0.5)\n",
        "print(f\"Predicted output: {predicted_val}\")"
      ]
    },
    {
      "cell_type": "markdown",
      "metadata": {
        "id": "XxnId0naSaOB"
      },
      "source": [
        "## Summary:"
      ]
    },
    {
      "cell_type": "markdown",
      "metadata": {
        "id": "_AFKxkg0SaOB"
      },
      "source": [
        "- We were able to create a model that can identify classify handwritten digits as either 1's or 0's\n",
        "- We successfully computed the `forward` and `backward` progation of a `neural network` from scratch."
      ]
    },
    {
      "cell_type": "markdown",
      "metadata": {
        "id": "-mdDrqevSaOB"
      },
      "source": [
        "**Thanks for reading !**"
      ]
    }
  ],
  "metadata": {
    "kernelspec": {
      "display_name": "pytorch",
      "language": "python",
      "name": "pytorch"
    },
    "language_info": {
      "codemirror_mode": {
        "name": "ipython",
        "version": 3
      },
      "file_extension": ".py",
      "mimetype": "text/x-python",
      "name": "python",
      "nbconvert_exporter": "python",
      "pygments_lexer": "ipython3",
      "version": "3.7.7"
    },
    "colab": {
      "provenance": []
    }
  },
  "nbformat": 4,
  "nbformat_minor": 0
}